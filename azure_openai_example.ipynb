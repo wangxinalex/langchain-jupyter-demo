{
 "cells": [
  {
   "cell_type": "markdown",
   "id": "8a77807f92f26ee",
   "metadata": {},
   "source": [
    "# Azure OpenAI Python SDK Sample\n"
   ]
  },
  {
   "cell_type": "code",
   "execution_count": 2,
   "id": "fbc121e30a2defb3",
   "metadata": {
    "ExecuteTime": {
     "end_time": "2024-07-19T12:29:36.376309Z",
     "start_time": "2024-07-19T12:29:36.311772Z"
    }
   },
   "outputs": [
    {
     "ename": "ModuleNotFoundError",
     "evalue": "No module named 'openai'",
     "output_type": "error",
     "traceback": [
      "\u001b[0;31m---------------------------------------------------------------------------\u001b[0m",
      "\u001b[0;31mModuleNotFoundError\u001b[0m                       Traceback (most recent call last)",
      "Cell \u001b[0;32mIn[2], line 2\u001b[0m\n\u001b[1;32m      1\u001b[0m \u001b[38;5;28;01mimport\u001b[39;00m \u001b[38;5;21;01mos\u001b[39;00m\n\u001b[0;32m----> 2\u001b[0m \u001b[38;5;28;01mfrom\u001b[39;00m \u001b[38;5;21;01mopenai\u001b[39;00m \u001b[38;5;28;01mimport\u001b[39;00m AzureOpenAI\n\u001b[1;32m      3\u001b[0m \u001b[38;5;28;01mfrom\u001b[39;00m \u001b[38;5;21;01mdotenv\u001b[39;00m \u001b[38;5;28;01mimport\u001b[39;00m load_dotenv, find_dotenv\n\u001b[1;32m      5\u001b[0m _ \u001b[38;5;241m=\u001b[39m load_dotenv(find_dotenv())\n",
      "\u001b[0;31mModuleNotFoundError\u001b[0m: No module named 'openai'"
     ]
    }
   ],
   "source": [
    "import os\n",
    "from openai import AzureOpenAI\n",
    "from dotenv import load_dotenv, find_dotenv\n",
    "\n",
    "_ = load_dotenv(find_dotenv())\n",
    "\n",
    "client = AzureOpenAI(\n",
    "    api_key=os.getenv(\"AZURE_OPENAI_KEY\"),\n",
    "    api_version=os.getenv(\"OPENAI_API_VERSION\"),\n",
    "    azure_endpoint=os.getenv(\"AZURE_OPENAI_ENDPOINT\"),\n",
    ")"
   ]
  },
  {
   "cell_type": "code",
   "execution_count": 52,
   "id": "c0494539777c14a2",
   "metadata": {
    "ExecuteTime": {
     "end_time": "2024-07-19T12:29:36.380098Z",
     "start_time": "2024-07-19T12:29:36.377496Z"
    }
   },
   "outputs": [],
   "source": [
    "def get_completion(_prompt, model=\"gpt-35-turbo-deployment\"):\n",
    "    messages = [{\"role\": \"user\", \"content\": _prompt}]\n",
    "    response = client.chat.completions.create(\n",
    "        model=model,\n",
    "        messages=messages,\n",
    "    )\n",
    "    return response.choices[0].message.content"
   ]
  },
  {
   "cell_type": "code",
   "execution_count": 53,
   "id": "244dfe739b36b3b0",
   "metadata": {
    "ExecuteTime": {
     "end_time": "2024-07-19T12:29:38.434211Z",
     "start_time": "2024-07-19T12:29:36.380729Z"
    }
   },
   "outputs": [
    {
     "data": {
      "text/plain": [
       "'Paramaribo.'"
      ]
     },
     "execution_count": 53,
     "metadata": {},
     "output_type": "execute_result"
    }
   ],
   "source": [
    "get_completion(\"What is the capital of Suriname?\")"
   ]
  },
  {
   "cell_type": "code",
   "execution_count": 54,
   "id": "d1f582e8ffc96f24",
   "metadata": {
    "ExecuteTime": {
     "end_time": "2024-07-19T12:29:38.437338Z",
     "start_time": "2024-07-19T12:29:38.435603Z"
    }
   },
   "outputs": [],
   "source": [
    "customer_email = \"\"\"Arrr, I be fuming that me blender lid flew off and splattered me kitchen walls with smoothie! \\\n",
    "And to make matter worse, the warranty don't cover the cost of cleaning up me kitchen. \\\n",
    "I need ye help right now, matey!\n",
    "\"\"\""
   ]
  },
  {
   "cell_type": "code",
   "execution_count": 55,
   "id": "46ee7178dc070533",
   "metadata": {
    "ExecuteTime": {
     "end_time": "2024-07-19T12:29:38.440696Z",
     "start_time": "2024-07-19T12:29:38.438039Z"
    }
   },
   "outputs": [],
   "source": [
    "style = \"\"\"British English in a calm and respectful tone\n",
    "\"\"\""
   ]
  },
  {
   "cell_type": "code",
   "execution_count": 56,
   "id": "bd6f9b3ccc2b9ee0",
   "metadata": {
    "ExecuteTime": {
     "end_time": "2024-07-19T12:29:38.443133Z",
     "start_time": "2024-07-19T12:29:38.441310Z"
    }
   },
   "outputs": [
    {
     "name": "stdout",
     "output_type": "stream",
     "text": [
      "\n",
      "Translate the text that is delimited by triple backticks into a style that is British English in a calm and respectful tone\n",
      ".text: ```Arrr, I be fuming that me blender lid flew off and splattered me kitchen walls with smoothie! And to make matter worse, the warranty don't cover the cost of cleaning up me kitchen. I need ye help right now, matey!\n",
      "```\n",
      "\n"
     ]
    }
   ],
   "source": [
    "prompt = f\"\"\"\n",
    "Translate the text that is delimited by triple backticks into a style that is {style}.\\\n",
    "text: ```{customer_email}```\n",
    "\"\"\"\n",
    "print(prompt)"
   ]
  },
  {
   "cell_type": "code",
   "execution_count": 57,
   "id": "77d25fafbac1b8d6",
   "metadata": {
    "ExecuteTime": {
     "end_time": "2024-07-19T12:29:39.289204Z",
     "start_time": "2024-07-19T12:29:38.443710Z"
    }
   },
   "outputs": [
    {
     "data": {
      "text/plain": [
       "\"I must say, I am quite upset that the lid of my blender detached and consequently caused my kitchen walls to become splattered with smoothie. What's more, the warranty does not cover the expense of me cleaning up the mess in my kitchen. I would greatly appreciate your assistance as soon as possible, my dear friend.\""
      ]
     },
     "execution_count": 57,
     "metadata": {},
     "output_type": "execute_result"
    }
   ],
   "source": [
    "get_completion(prompt)"
   ]
  },
  {
   "cell_type": "code",
   "execution_count": 82,
   "id": "c2f1d077f6e70165",
   "metadata": {
    "ExecuteTime": {
     "end_time": "2024-07-19T12:41:01.366164Z",
     "start_time": "2024-07-19T12:41:01.260005Z"
    }
   },
   "outputs": [
    {
     "data": {
      "text/plain": [
       "AzureChatOpenAI(client=<openai.resources.chat.completions.Completions object at 0x10e19f4a0>, async_client=<openai.resources.chat.completions.AsyncCompletions object at 0x10e1f13d0>, openai_api_key=SecretStr('**********'), openai_proxy='', azure_endpoint='https://alex-openai-trial.openai.azure.com/', deployment_name='gpt-35-turbo-deployment', openai_api_version='2024-02-01', openai_api_type='azure')"
      ]
     },
     "execution_count": 82,
     "metadata": {},
     "output_type": "execute_result"
    }
   ],
   "source": [
    "from langchain_openai.chat_models import AzureChatOpenAI\n",
    "\n",
    "chat = AzureChatOpenAI(deployment_name=\"gpt-35-turbo-deployment\")\n",
    "chat"
   ]
  },
  {
   "cell_type": "code",
   "execution_count": 83,
   "id": "e480bc692c487af1",
   "metadata": {
    "ExecuteTime": {
     "end_time": "2024-07-19T12:41:01.369069Z",
     "start_time": "2024-07-19T12:41:01.367289Z"
    }
   },
   "outputs": [],
   "source": [
    "template_string = \"\"\"\n",
    "Translate the text that is delimited by triple backticks into a style that is {style}.\\\n",
    "text: ```{text}```\n",
    "\"\"\""
   ]
  },
  {
   "cell_type": "markdown",
   "id": "cab3cf0c08dba471",
   "metadata": {},
   "source": [
    "## Add a new prompt template"
   ]
  },
  {
   "cell_type": "code",
   "execution_count": 84,
   "id": "9a2d9cadf2d5eb3b",
   "metadata": {
    "ExecuteTime": {
     "end_time": "2024-07-19T12:41:01.372979Z",
     "start_time": "2024-07-19T12:41:01.369931Z"
    }
   },
   "outputs": [
    {
     "data": {
      "text/plain": [
       "PromptTemplate(input_variables=['style', 'text'], template='\\nTranslate the text that is delimited by triple backticks into a style that is {style}.text: ```{text}```\\n')"
      ]
     },
     "execution_count": 84,
     "metadata": {},
     "output_type": "execute_result"
    }
   ],
   "source": [
    "from langchain_core.prompts import ChatPromptTemplate\n",
    "\n",
    "prompt_template = ChatPromptTemplate.from_template(template_string)\n",
    "prompt_template.messages[0].prompt"
   ]
  },
  {
   "cell_type": "code",
   "execution_count": 85,
   "id": "e207ab7633269bd5",
   "metadata": {
    "ExecuteTime": {
     "end_time": "2024-07-19T12:41:01.377247Z",
     "start_time": "2024-07-19T12:41:01.374268Z"
    }
   },
   "outputs": [
    {
     "data": {
      "text/plain": [
       "['style', 'text']"
      ]
     },
     "execution_count": 85,
     "metadata": {},
     "output_type": "execute_result"
    }
   ],
   "source": [
    "prompt_template.messages[0].input_variables"
   ]
  },
  {
   "cell_type": "code",
   "execution_count": 86,
   "id": "5f84cacaf7447db3",
   "metadata": {
    "ExecuteTime": {
     "end_time": "2024-07-19T12:41:01.379813Z",
     "start_time": "2024-07-19T12:41:01.378180Z"
    }
   },
   "outputs": [],
   "source": [
    "customer_style = \"\"\"American English in a calm and respectful tone\n",
    "\"\"\""
   ]
  },
  {
   "cell_type": "code",
   "execution_count": 87,
   "id": "179b2eaa8be05ab1",
   "metadata": {
    "ExecuteTime": {
     "end_time": "2024-07-19T12:41:01.382623Z",
     "start_time": "2024-07-19T12:41:01.380459Z"
    }
   },
   "outputs": [],
   "source": [
    "customer_email = \"\"\"Arrr, I be fuming that me blender lid flew off and splattered me kitchen walls with smoothie! \\\n",
    "And to make matter worse, the warranty don't cover the cost of cleaning up me kitchen. \\\n",
    "I need ye help right now, matey!\n",
    "\"\"\""
   ]
  },
  {
   "cell_type": "code",
   "execution_count": 88,
   "id": "32e243245877de56",
   "metadata": {
    "ExecuteTime": {
     "end_time": "2024-07-19T12:41:01.385094Z",
     "start_time": "2024-07-19T12:41:01.383284Z"
    }
   },
   "outputs": [],
   "source": [
    "customer_messages = prompt_template.format_messages(style=customer_style, text=customer_email)"
   ]
  },
  {
   "cell_type": "code",
   "execution_count": 90,
   "id": "e9f3f08ef3a99288",
   "metadata": {
    "ExecuteTime": {
     "end_time": "2024-07-19T12:41:01.389520Z",
     "start_time": "2024-07-19T12:41:01.387945Z"
    }
   },
   "outputs": [
    {
     "name": "stdout",
     "output_type": "stream",
     "text": [
      "content=\"\\nTranslate the text that is delimited by triple backticks into a style that is American English in a calm and respectful tone\\n.text: ```Arrr, I be fuming that me blender lid flew off and splattered me kitchen walls with smoothie! And to make matter worse, the warranty don't cover the cost of cleaning up me kitchen. I need ye help right now, matey!\\n```\\n\"\n"
     ]
    }
   ],
   "source": [
    "print(customer_messages[0])"
   ]
  },
  {
   "cell_type": "code",
   "execution_count": 94,
   "id": "abe72789303c4551",
   "metadata": {
    "ExecuteTime": {
     "end_time": "2024-07-19T12:41:59.501883Z",
     "start_time": "2024-07-19T12:41:57.609782Z"
    }
   },
   "outputs": [
    {
     "name": "stdout",
     "output_type": "stream",
     "text": [
      "I am quite upset that my blender lid came off and covered my kitchen walls with smoothie. To add to my frustration, the warranty doesn't cover the cost of cleaning up my kitchen. I would greatly appreciate your assistance, my friend. Thank you kindly.\n"
     ]
    }
   ],
   "source": [
    "customer_response = chat.invoke(customer_messages)\n",
    "print(customer_response.content)"
   ]
  },
  {
   "cell_type": "markdown",
   "id": "d69dce705435f5cf",
   "metadata": {},
   "source": [
    "## Parsing the output"
   ]
  },
  {
   "cell_type": "code",
   "execution_count": 95,
   "id": "dc945c6f5cbb395b",
   "metadata": {
    "ExecuteTime": {
     "end_time": "2024-07-19T14:08:32.281892Z",
     "start_time": "2024-07-19T14:08:32.276004Z"
    }
   },
   "outputs": [],
   "source": [
    "customer_review = \"\"\"\\\n",
    "This leaf blower is pretty amazing. It has four settings: \\\n",
    "candle blower, gentle breeze, windy city, and tornado. \\\n",
    "It arrived in two days, just in time for my wife's \\\n",
    "anniversary present. \\\n",
    "I think my wife liked it so much she was speechless. \\\n",
    "So far I've been the only one using it, and I've been \\\n",
    "using it every other morning to clear the leaves on our lawn. \\\n",
    "It is slightly more expensive than the other leaf blowers \\\n",
    "out there, but I think it's worth it for the extra features.\n",
    "\"\"\"\n",
    "\n",
    "review_template = \"\"\"\\\n",
    "For the following text, extract the following information: \n",
    "\n",
    "gift: Was the item purchased as a gift for someone else?\n",
    "delivery_days: How many days did it take for the product to arrive?\n",
    "price_value: Extract any sentences about the value or price.\n",
    "\n",
    "Format the output as JSON with the following keys:\n",
    "gift\n",
    "delivery_days\n",
    "price_value\n",
    "\n",
    "text: {text} \n",
    "\"\"\""
   ]
  },
  {
   "cell_type": "code",
   "execution_count": 96,
   "id": "8b3a898260acfe3d",
   "metadata": {
    "ExecuteTime": {
     "end_time": "2024-07-19T14:08:32.287964Z",
     "start_time": "2024-07-19T14:08:32.284493Z"
    }
   },
   "outputs": [
    {
     "name": "stdout",
     "output_type": "stream",
     "text": [
      "input_variables=['text'] messages=[HumanMessagePromptTemplate(prompt=PromptTemplate(input_variables=['text'], template='For the following text, extract the following information: \\n\\ngift: Was the item purchased as a gift for someone else?\\ndelivery_days: How many days did it take for the product to arrive?\\nprice_value: Extract any sentences about the value or price.\\n\\nFormat the output as JSON with the following keys:\\ngift\\ndelivery_days\\nprice_value\\n\\ntext: {text} \\n'))]\n"
     ]
    }
   ],
   "source": [
    "from langchain_core.prompts import ChatPromptTemplate\n",
    "\n",
    "prompt_template = ChatPromptTemplate.from_template(review_template)\n",
    "print(prompt_template)"
   ]
  },
  {
   "cell_type": "code",
   "execution_count": 97,
   "id": "48131606907774b1",
   "metadata": {
    "ExecuteTime": {
     "end_time": "2024-07-19T14:10:14.163219Z",
     "start_time": "2024-07-19T14:10:11.672419Z"
    }
   },
   "outputs": [
    {
     "name": "stdout",
     "output_type": "stream",
     "text": [
      "{\n",
      "  \"gift\": true,\n",
      "  \"delivery_days\": 2,\n",
      "  \"price_value\": \"It is slightly more expensive than the other leaf blowers out there, but I think it's worth it for the extra features.\"\n",
      "}\n"
     ]
    }
   ],
   "source": [
    "messages = prompt_template.format_messages(text=customer_review)\n",
    "chat = AzureChatOpenAI(deployment_name=\"gpt-35-turbo-deployment\")\n",
    "response = chat.invoke(messages)\n",
    "print(response.content)"
   ]
  }
 ],
 "metadata": {
  "kernelspec": {
   "display_name": "Python 3 (ipykernel)",
   "language": "python",
   "name": "python3"
  },
  "language_info": {
   "codemirror_mode": {
    "name": "ipython",
    "version": 3
   },
   "file_extension": ".py",
   "mimetype": "text/x-python",
   "name": "python",
   "nbconvert_exporter": "python",
   "pygments_lexer": "ipython3",
   "version": "3.12.2"
  }
 },
 "nbformat": 4,
 "nbformat_minor": 5
}
