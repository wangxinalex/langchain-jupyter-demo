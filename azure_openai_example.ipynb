{
 "cells": [
  {
   "cell_type": "markdown",
   "id": "8a77807f92f26ee",
   "metadata": {},
   "source": [
    "# Azure OpenAI Python SDK Sample\n"
   ]
  },
  {
   "cell_type": "code",
   "id": "fbc121e30a2defb3",
   "metadata": {
    "ExecuteTime": {
     "end_time": "2024-07-25T16:34:40.025051Z",
     "start_time": "2024-07-25T16:34:39.550492Z"
    }
   },
   "source": [
    "import os\n",
    "from openai import AzureOpenAI\n",
    "from dotenv import load_dotenv, find_dotenv\n",
    "\n",
    "_ = load_dotenv(find_dotenv())\n",
    "\n",
    "client = AzureOpenAI(\n",
    "    api_key=os.getenv(\"AZURE_OPENAI_KEY\"),\n",
    "    api_version=os.getenv(\"OPENAI_API_VERSION\"),\n",
    "    azure_endpoint=os.getenv(\"AZURE_OPENAI_ENDPOINT\"),\n",
    ")"
   ],
   "outputs": [],
   "execution_count": 1
  },
  {
   "cell_type": "code",
   "id": "c0494539777c14a2",
   "metadata": {
    "ExecuteTime": {
     "end_time": "2024-07-25T16:34:40.028020Z",
     "start_time": "2024-07-25T16:34:40.025908Z"
    }
   },
   "source": [
    "def get_completion(_prompt, model=\"gpt-35-turbo-deployment\"):\n",
    "    messages = [{\"role\": \"user\", \"content\": _prompt}]\n",
    "    response = client.chat.completions.create(\n",
    "        model=model,\n",
    "        messages=messages,\n",
    "    )\n",
    "    return response.choices[0].message.content"
   ],
   "outputs": [],
   "execution_count": 2
  },
  {
   "cell_type": "code",
   "id": "244dfe739b36b3b0",
   "metadata": {
    "ExecuteTime": {
     "end_time": "2024-07-25T16:34:41.992521Z",
     "start_time": "2024-07-25T16:34:40.028604Z"
    }
   },
   "source": [
    "get_completion(\"What is the capital of Suriname?\")"
   ],
   "outputs": [
    {
     "data": {
      "text/plain": [
       "'The capital of Suriname is Paramaribo.'"
      ]
     },
     "execution_count": 3,
     "metadata": {},
     "output_type": "execute_result"
    }
   ],
   "execution_count": 3
  },
  {
   "cell_type": "code",
   "id": "d1f582e8ffc96f24",
   "metadata": {
    "ExecuteTime": {
     "end_time": "2024-07-25T16:34:41.998154Z",
     "start_time": "2024-07-25T16:34:41.995351Z"
    }
   },
   "source": [
    "customer_email = \"\"\"Arrr, I be fuming that me blender lid flew off and splattered me kitchen walls with smoothie! \\\n",
    "And to make matter worse, the warranty don't cover the cost of cleaning up me kitchen. \\\n",
    "I need ye help right now, matey!\n",
    "\"\"\""
   ],
   "outputs": [],
   "execution_count": 4
  },
  {
   "cell_type": "code",
   "id": "46ee7178dc070533",
   "metadata": {
    "ExecuteTime": {
     "end_time": "2024-07-25T16:34:42.001847Z",
     "start_time": "2024-07-25T16:34:41.999549Z"
    }
   },
   "source": [
    "style = \"\"\"British English in a calm and respectful tone\n",
    "\"\"\""
   ],
   "outputs": [],
   "execution_count": 5
  },
  {
   "cell_type": "code",
   "id": "bd6f9b3ccc2b9ee0",
   "metadata": {
    "ExecuteTime": {
     "end_time": "2024-07-25T16:34:42.005253Z",
     "start_time": "2024-07-25T16:34:42.002983Z"
    }
   },
   "source": [
    "prompt = f\"\"\"\n",
    "Translate the text that is delimited by triple backticks into a style that is {style}.\\\n",
    "text: ```{customer_email}```\n",
    "\"\"\"\n",
    "print(prompt)"
   ],
   "outputs": [
    {
     "name": "stdout",
     "output_type": "stream",
     "text": [
      "\n",
      "Translate the text that is delimited by triple backticks into a style that is British English in a calm and respectful tone\n",
      ".text: ```Arrr, I be fuming that me blender lid flew off and splattered me kitchen walls with smoothie! And to make matter worse, the warranty don't cover the cost of cleaning up me kitchen. I need ye help right now, matey!\n",
      "```\n",
      "\n"
     ]
    }
   ],
   "execution_count": 6
  },
  {
   "cell_type": "code",
   "id": "77d25fafbac1b8d6",
   "metadata": {
    "ExecuteTime": {
     "end_time": "2024-07-25T16:34:42.768218Z",
     "start_time": "2024-07-25T16:34:42.006347Z"
    }
   },
   "source": [
    "get_completion(prompt)"
   ],
   "outputs": [
    {
     "data": {
      "text/plain": [
       "'I am quite irked that my blender lid detached and coated the walls of my kitchen with smoothie! To further compound the issue, the warranty does not cover the expenses for cleaning up my kitchen. I would appreciate your assistance at this moment, my friend.'"
      ]
     },
     "execution_count": 7,
     "metadata": {},
     "output_type": "execute_result"
    }
   ],
   "execution_count": 7
  },
  {
   "cell_type": "code",
   "id": "c2f1d077f6e70165",
   "metadata": {
    "ExecuteTime": {
     "end_time": "2024-07-25T16:34:43.351731Z",
     "start_time": "2024-07-25T16:34:42.770225Z"
    }
   },
   "source": [
    "from langchain_openai.chat_models import AzureChatOpenAI\n",
    "\n",
    "chat = AzureChatOpenAI(\n",
    "    deployment_name=\"gpt-35-turbo-deployment\",\n",
    "    api_key=os.getenv(\"AZURE_OPENAI_KEY\"),\n",
    "    api_version=os.getenv(\"OPENAI_API_VERSION\"),\n",
    "    azure_endpoint=os.getenv(\"AZURE_OPENAI_ENDPOINT\")\n",
    "    )"
   ],
   "outputs": [],
   "execution_count": 8
  },
  {
   "cell_type": "code",
   "id": "e480bc692c487af1",
   "metadata": {
    "ExecuteTime": {
     "end_time": "2024-07-25T16:34:43.353824Z",
     "start_time": "2024-07-25T16:34:43.352297Z"
    }
   },
   "source": [
    "template_string = \"\"\"\n",
    "Translate the text that is delimited by triple backticks into a style that is {style}.\\\n",
    "text: ```{text}```\n",
    "\"\"\""
   ],
   "outputs": [],
   "execution_count": 9
  },
  {
   "cell_type": "markdown",
   "id": "cab3cf0c08dba471",
   "metadata": {},
   "source": [
    "## Add a new langchain prompt template"
   ]
  },
  {
   "cell_type": "code",
   "id": "9a2d9cadf2d5eb3b",
   "metadata": {
    "ExecuteTime": {
     "end_time": "2024-07-25T16:34:43.358093Z",
     "start_time": "2024-07-25T16:34:43.355724Z"
    }
   },
   "source": [
    "from langchain_core.prompts import ChatPromptTemplate\n",
    "\n",
    "prompt_template = ChatPromptTemplate.from_template(template_string)\n",
    "prompt_template.messages[0].prompt"
   ],
   "outputs": [
    {
     "data": {
      "text/plain": [
       "PromptTemplate(input_variables=['style', 'text'], template='\\nTranslate the text that is delimited by triple backticks into a style that is {style}.text: ```{text}```\\n')"
      ]
     },
     "execution_count": 10,
     "metadata": {},
     "output_type": "execute_result"
    }
   ],
   "execution_count": 10
  },
  {
   "cell_type": "code",
   "id": "e207ab7633269bd5",
   "metadata": {
    "ExecuteTime": {
     "end_time": "2024-07-25T16:34:43.360982Z",
     "start_time": "2024-07-25T16:34:43.358725Z"
    }
   },
   "source": [
    "prompt_template.messages[0].input_variables"
   ],
   "outputs": [
    {
     "data": {
      "text/plain": [
       "['style', 'text']"
      ]
     },
     "execution_count": 11,
     "metadata": {},
     "output_type": "execute_result"
    }
   ],
   "execution_count": 11
  },
  {
   "cell_type": "code",
   "id": "5f84cacaf7447db3",
   "metadata": {
    "ExecuteTime": {
     "end_time": "2024-07-25T16:34:43.363081Z",
     "start_time": "2024-07-25T16:34:43.361594Z"
    }
   },
   "source": [
    "customer_style = \"\"\"American English in a calm and respectful tone\n",
    "\"\"\""
   ],
   "outputs": [],
   "execution_count": 12
  },
  {
   "cell_type": "code",
   "id": "179b2eaa8be05ab1",
   "metadata": {
    "ExecuteTime": {
     "end_time": "2024-07-25T16:34:43.365152Z",
     "start_time": "2024-07-25T16:34:43.363770Z"
    }
   },
   "source": [
    "customer_email = \"\"\"Arrr, I be fuming that me blender lid flew off and splattered me kitchen walls with smoothie! \\\n",
    "And to make matter worse, the warranty don't cover the cost of cleaning up me kitchen. \\\n",
    "I need ye help right now, matey!\n",
    "\"\"\""
   ],
   "outputs": [],
   "execution_count": 13
  },
  {
   "cell_type": "code",
   "id": "32e243245877de56",
   "metadata": {
    "ExecuteTime": {
     "end_time": "2024-07-25T16:34:43.367318Z",
     "start_time": "2024-07-25T16:34:43.365829Z"
    }
   },
   "source": [
    "customer_messages = prompt_template.format_messages(style=customer_style, text=customer_email)"
   ],
   "outputs": [],
   "execution_count": 14
  },
  {
   "cell_type": "code",
   "id": "e9f3f08ef3a99288",
   "metadata": {
    "ExecuteTime": {
     "end_time": "2024-07-25T16:34:43.369200Z",
     "start_time": "2024-07-25T16:34:43.367833Z"
    }
   },
   "source": [
    "print(customer_messages[0])"
   ],
   "outputs": [
    {
     "name": "stdout",
     "output_type": "stream",
     "text": [
      "content=\"\\nTranslate the text that is delimited by triple backticks into a style that is American English in a calm and respectful tone\\n.text: ```Arrr, I be fuming that me blender lid flew off and splattered me kitchen walls with smoothie! And to make matter worse, the warranty don't cover the cost of cleaning up me kitchen. I need ye help right now, matey!\\n```\\n\"\n"
     ]
    }
   ],
   "execution_count": 15
  },
  {
   "cell_type": "code",
   "id": "abe72789303c4551",
   "metadata": {
    "ExecuteTime": {
     "end_time": "2024-07-25T16:34:45.591120Z",
     "start_time": "2024-07-25T16:34:43.369917Z"
    }
   },
   "source": [
    "customer_response = chat.invoke(customer_messages)\n",
    "print(customer_response.content)"
   ],
   "outputs": [
    {
     "name": "stdout",
     "output_type": "stream",
     "text": [
      "I am quite upset that my blender's lid came off and caused my smoothie to splatter all over my kitchen walls. In addition, the warranty does not cover the expenses of cleaning up my kitchen. I would greatly appreciate your assistance, my friend.\n"
     ]
    }
   ],
   "execution_count": 16
  },
  {
   "cell_type": "markdown",
   "id": "d69dce705435f5cf",
   "metadata": {},
   "source": [
    "## Parsing the output"
   ]
  },
  {
   "cell_type": "code",
   "id": "dc945c6f5cbb395b",
   "metadata": {
    "ExecuteTime": {
     "end_time": "2024-07-25T16:34:45.594100Z",
     "start_time": "2024-07-25T16:34:45.592056Z"
    }
   },
   "source": [
    "customer_review = \"\"\"\\\n",
    "This leaf blower is pretty amazing. It has four settings: \\\n",
    "candle blower, gentle breeze, windy city, and tornado. \\\n",
    "It arrived in two days, just in time for my wife's \\\n",
    "anniversary present. \\\n",
    "I think my wife liked it so much she was speechless. \\\n",
    "So far I've been the only one using it, and I've been \\\n",
    "using it every other morning to clear the leaves on our lawn. \\\n",
    "It is slightly more expensive than the other leaf blowers \\\n",
    "out there, but I think it's worth it for the extra features.\n",
    "\"\"\"\n",
    "\n",
    "review_template = \"\"\"\\\n",
    "For the following text, extract the following information: \n",
    "\n",
    "gift: Was the item purchased as a gift for someone else?\n",
    "delivery_days: How many days did it take for the product to arrive?\n",
    "price_value: Extract any sentences about the value or price.\n",
    "\n",
    "Format the output as JSON with the following keys:\n",
    "gift\n",
    "delivery_days\n",
    "price_value\n",
    "\n",
    "text: {text} \n",
    "\"\"\""
   ],
   "outputs": [],
   "execution_count": 17
  },
  {
   "cell_type": "code",
   "id": "8b3a898260acfe3d",
   "metadata": {
    "ExecuteTime": {
     "end_time": "2024-07-25T16:34:45.597026Z",
     "start_time": "2024-07-25T16:34:45.594914Z"
    }
   },
   "source": [
    "from langchain_core.prompts import ChatPromptTemplate\n",
    "\n",
    "prompt_template = ChatPromptTemplate.from_template(review_template)\n",
    "print(prompt_template)"
   ],
   "outputs": [
    {
     "name": "stdout",
     "output_type": "stream",
     "text": [
      "input_variables=['text'] messages=[HumanMessagePromptTemplate(prompt=PromptTemplate(input_variables=['text'], template='For the following text, extract the following information: \\n\\ngift: Was the item purchased as a gift for someone else?\\ndelivery_days: How many days did it take for the product to arrive?\\nprice_value: Extract any sentences about the value or price.\\n\\nFormat the output as JSON with the following keys:\\ngift\\ndelivery_days\\nprice_value\\n\\ntext: {text} \\n'))]\n"
     ]
    }
   ],
   "execution_count": 18
  },
  {
   "cell_type": "code",
   "id": "48131606907774b1",
   "metadata": {
    "ExecuteTime": {
     "end_time": "2024-07-25T16:34:46.484229Z",
     "start_time": "2024-07-25T16:34:45.597806Z"
    }
   },
   "source": [
    "messages = prompt_template.format_messages(text=customer_review)\n",
    "response = chat.invoke(messages)\n",
    "print(response.content)"
   ],
   "outputs": [
    {
     "name": "stdout",
     "output_type": "stream",
     "text": [
      "{\n",
      "  \"gift\": true,\n",
      "  \"delivery_days\": 2,\n",
      "  \"price_value\": \"It is slightly more expensive than the other leaf blowers out there, but I think it's worth it for the extra features.\"\n",
      "}\n"
     ]
    }
   ],
   "execution_count": 19
  }
 ],
 "metadata": {
  "kernelspec": {
   "display_name": ".venv",
   "language": "python",
   "name": "python3"
  },
  "language_info": {
   "codemirror_mode": {
    "name": "ipython",
    "version": 3
   },
   "file_extension": ".py",
   "mimetype": "text/x-python",
   "name": "python",
   "nbconvert_exporter": "python",
   "pygments_lexer": "ipython3",
   "version": "3.12.2"
  }
 },
 "nbformat": 4,
 "nbformat_minor": 5
}
