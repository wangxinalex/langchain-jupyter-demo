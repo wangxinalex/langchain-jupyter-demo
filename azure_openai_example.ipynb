{
 "cells": [
  {
   "cell_type": "markdown",
   "id": "8a77807f92f26ee",
   "metadata": {},
   "source": [
    "# Azure OpenAI Python SDK Sample\n"
   ]
  },
  {
   "cell_type": "code",
   "id": "fbc121e30a2defb3",
   "metadata": {
    "ExecuteTime": {
     "end_time": "2024-07-31T05:28:05.378189Z",
     "start_time": "2024-07-31T05:28:05.314951Z"
    }
   },
   "source": [
    "import os\n",
    "from openai import AzureOpenAI\n",
    "from dotenv import load_dotenv, find_dotenv\n",
    "\n",
    "_ = load_dotenv(find_dotenv())\n",
    "\n",
    "client = AzureOpenAI(\n",
    "    api_key=os.getenv(\"AZURE_OPENAI_KEY\"),\n",
    "    api_version=os.getenv(\"OPENAI_API_VERSION\"),\n",
    "    azure_endpoint=os.getenv(\"AZURE_OPENAI_ENDPOINT\"),\n",
    ")"
   ],
   "outputs": [],
   "execution_count": 39
  },
  {
   "cell_type": "code",
   "id": "c0494539777c14a2",
   "metadata": {
    "ExecuteTime": {
     "end_time": "2024-07-31T05:28:05.381544Z",
     "start_time": "2024-07-31T05:28:05.379240Z"
    }
   },
   "source": [
    "def get_completion(_prompt, model=\"gpt-35-turbo-deployment\"):\n",
    "    messages = [{\"role\": \"user\", \"content\": _prompt}]\n",
    "    response = client.chat.completions.create(\n",
    "        model=model,\n",
    "        messages=messages,\n",
    "    )\n",
    "    return response.choices[0].message.content"
   ],
   "outputs": [],
   "execution_count": 40
  },
  {
   "cell_type": "code",
   "id": "244dfe739b36b3b0",
   "metadata": {
    "ExecuteTime": {
     "end_time": "2024-07-31T05:28:06.569303Z",
     "start_time": "2024-07-31T05:28:05.382129Z"
    }
   },
   "source": [
    "get_completion(\"What is the capital of Suriname?\")"
   ],
   "outputs": [
    {
     "data": {
      "text/plain": [
       "'Paramaribo.'"
      ]
     },
     "execution_count": 41,
     "metadata": {},
     "output_type": "execute_result"
    }
   ],
   "execution_count": 41
  },
  {
   "cell_type": "code",
   "id": "d1f582e8ffc96f24",
   "metadata": {
    "ExecuteTime": {
     "end_time": "2024-07-31T05:28:06.574655Z",
     "start_time": "2024-07-31T05:28:06.571583Z"
    }
   },
   "source": [
    "customer_email = \"\"\"Arrr, I be fuming that me blender lid flew off and splattered me kitchen walls with smoothie! \\\n",
    "And to make matter worse, the warranty don't cover the cost of cleaning up me kitchen. \\\n",
    "I need ye help right now, matey!\n",
    "\"\"\""
   ],
   "outputs": [],
   "execution_count": 42
  },
  {
   "cell_type": "code",
   "id": "46ee7178dc070533",
   "metadata": {
    "ExecuteTime": {
     "end_time": "2024-07-31T05:28:06.577940Z",
     "start_time": "2024-07-31T05:28:06.575888Z"
    }
   },
   "source": [
    "style = \"\"\"British English in a calm and respectful tone\n",
    "\"\"\""
   ],
   "outputs": [],
   "execution_count": 43
  },
  {
   "cell_type": "code",
   "id": "bd6f9b3ccc2b9ee0",
   "metadata": {
    "ExecuteTime": {
     "end_time": "2024-07-31T05:28:06.581391Z",
     "start_time": "2024-07-31T05:28:06.578934Z"
    }
   },
   "source": [
    "prompt = f\"\"\"\n",
    "Translate the text that is delimited by triple backticks into a style that is {style}.\\\n",
    "text: ```{customer_email}```\n",
    "\"\"\"\n",
    "print(prompt)"
   ],
   "outputs": [
    {
     "name": "stdout",
     "output_type": "stream",
     "text": [
      "\n",
      "Translate the text that is delimited by triple backticks into a style that is British English in a calm and respectful tone\n",
      ".text: ```Arrr, I be fuming that me blender lid flew off and splattered me kitchen walls with smoothie! And to make matter worse, the warranty don't cover the cost of cleaning up me kitchen. I need ye help right now, matey!\n",
      "```\n",
      "\n"
     ]
    }
   ],
   "execution_count": 44
  },
  {
   "cell_type": "code",
   "id": "77d25fafbac1b8d6",
   "metadata": {
    "ExecuteTime": {
     "end_time": "2024-07-31T05:28:07.442060Z",
     "start_time": "2024-07-31T05:28:06.582765Z"
    }
   },
   "source": [
    "get_completion(prompt)"
   ],
   "outputs": [
    {
     "data": {
      "text/plain": [
       "\"I must say, I am quite displeased that my blender's lid came off and caused my kitchen walls to become coated in smoothie. In addition, I am disappointed that my warranty does not cover the expenses incurred from cleaning up my kitchen. Would you be able to assist me at this time, my friend? Thank you kindly.\""
      ]
     },
     "execution_count": 45,
     "metadata": {},
     "output_type": "execute_result"
    }
   ],
   "execution_count": 45
  },
  {
   "cell_type": "code",
   "id": "c2f1d077f6e70165",
   "metadata": {
    "jupyter": {
     "is_executing": true
    },
    "ExecuteTime": {
     "start_time": "2024-07-31T05:28:07.443211Z"
    }
   },
   "source": [
    "from langchain_openai.chat_models import AzureChatOpenAI\n",
    "\n",
    "chat = AzureChatOpenAI(\n",
    "    deployment_name=\"gpt-35-turbo-deployment\",\n",
    "    api_key=os.getenv(\"AZURE_OPENAI_KEY\"),\n",
    "    api_version=os.getenv(\"OPENAI_API_VERSION\"),\n",
    "    azure_endpoint=os.getenv(\"AZURE_OPENAI_ENDPOINT\")\n",
    "    )"
   ],
   "outputs": [],
   "execution_count": null
  },
  {
   "cell_type": "code",
   "id": "e480bc692c487af1",
   "metadata": {
    "jupyter": {
     "is_executing": true
    }
   },
   "source": [
    "template_string = \"\"\"\n",
    "Translate the text that is delimited by triple backticks into a style that is {style}.\\\n",
    "text: ```{text}```\n",
    "\"\"\""
   ],
   "outputs": [],
   "execution_count": null
  },
  {
   "cell_type": "markdown",
   "id": "cab3cf0c08dba471",
   "metadata": {},
   "source": [
    "## Add a new langchain prompt template"
   ]
  },
  {
   "cell_type": "code",
   "id": "9a2d9cadf2d5eb3b",
   "metadata": {
    "jupyter": {
     "is_executing": true
    }
   },
   "source": [
    "from langchain_core.prompts import ChatPromptTemplate\n",
    "\n",
    "prompt_template = ChatPromptTemplate.from_template(template_string)\n",
    "prompt_template.messages[0].prompt"
   ],
   "outputs": [],
   "execution_count": null
  },
  {
   "cell_type": "code",
   "id": "e207ab7633269bd5",
   "metadata": {
    "jupyter": {
     "is_executing": true
    }
   },
   "source": [
    "prompt_template.messages[0].input_variables"
   ],
   "outputs": [],
   "execution_count": null
  },
  {
   "cell_type": "code",
   "id": "5f84cacaf7447db3",
   "metadata": {
    "jupyter": {
     "is_executing": true
    }
   },
   "source": [
    "customer_style = \"\"\"American English in a calm and respectful tone\n",
    "\"\"\""
   ],
   "outputs": [],
   "execution_count": null
  },
  {
   "cell_type": "code",
   "id": "179b2eaa8be05ab1",
   "metadata": {
    "jupyter": {
     "is_executing": true
    }
   },
   "source": [
    "customer_email = \"\"\"Arrr, I be fuming that me blender lid flew off and splattered me kitchen walls with smoothie! \\\n",
    "And to make matter worse, the warranty don't cover the cost of cleaning up me kitchen. \\\n",
    "I need ye help right now, matey!\n",
    "\"\"\""
   ],
   "outputs": [],
   "execution_count": null
  },
  {
   "cell_type": "code",
   "id": "32e243245877de56",
   "metadata": {
    "jupyter": {
     "is_executing": true
    }
   },
   "source": [
    "customer_messages = prompt_template.format_messages(style=customer_style, text=customer_email)"
   ],
   "outputs": [],
   "execution_count": null
  },
  {
   "cell_type": "code",
   "id": "e9f3f08ef3a99288",
   "metadata": {
    "jupyter": {
     "is_executing": true
    }
   },
   "source": [
    "print(customer_messages[0])"
   ],
   "outputs": [],
   "execution_count": null
  },
  {
   "cell_type": "code",
   "id": "abe72789303c4551",
   "metadata": {
    "jupyter": {
     "is_executing": true
    }
   },
   "source": [
    "customer_response = chat.invoke(customer_messages)\n",
    "print(customer_response.content)"
   ],
   "outputs": [],
   "execution_count": null
  },
  {
   "cell_type": "markdown",
   "id": "d69dce705435f5cf",
   "metadata": {},
   "source": [
    "## Parsing the output"
   ]
  },
  {
   "cell_type": "code",
   "id": "dc945c6f5cbb395b",
   "metadata": {
    "jupyter": {
     "is_executing": true
    }
   },
   "source": [
    "customer_review = \"\"\"\\\n",
    "This leaf blower is pretty amazing. It has four settings: \\\n",
    "candle blower, gentle breeze, windy city, and tornado. \\\n",
    "It arrived in two days, just in time for my wife's \\\n",
    "anniversary present. \\\n",
    "I think my wife liked it so much she was speechless. \\\n",
    "So far I've been the only one using it, and I've been \\\n",
    "using it every other morning to clear the leaves on our lawn. \\\n",
    "It is slightly more expensive than the other leaf blowers \\\n",
    "out there, but I think it's worth it for the extra features.\n",
    "\"\"\"\n",
    "\n",
    "review_template = \"\"\"\\\n",
    "For the following text, extract the following information: \n",
    "\n",
    "gift: Was the item purchased as a gift for someone else?\n",
    "delivery_days: How many days did it take for the product to arrive?\n",
    "price_value: Extract any sentences about the value or price.\n",
    "\n",
    "Format the output as JSON with the following keys:\n",
    "gift\n",
    "delivery_days\n",
    "price_value\n",
    "\n",
    "text: {text} \n",
    "\"\"\""
   ],
   "outputs": [],
   "execution_count": null
  },
  {
   "cell_type": "code",
   "id": "8b3a898260acfe3d",
   "metadata": {
    "jupyter": {
     "is_executing": true
    }
   },
   "source": [
    "from langchain_core.prompts import ChatPromptTemplate\n",
    "\n",
    "prompt_template = ChatPromptTemplate.from_template(review_template)\n",
    "print(prompt_template)"
   ],
   "outputs": [],
   "execution_count": null
  },
  {
   "cell_type": "code",
   "id": "48131606907774b1",
   "metadata": {
    "jupyter": {
     "is_executing": true
    }
   },
   "source": [
    "messages = prompt_template.format_messages(text=customer_review)\n",
    "response = chat.invoke(messages)\n",
    "print(response.content)"
   ],
   "outputs": [],
   "execution_count": null
  }
 ],
 "metadata": {
  "kernelspec": {
   "display_name": ".venv",
   "language": "python",
   "name": "python3"
  },
  "language_info": {
   "codemirror_mode": {
    "name": "ipython",
    "version": 3
   },
   "file_extension": ".py",
   "mimetype": "text/x-python",
   "name": "python",
   "nbconvert_exporter": "python",
   "pygments_lexer": "ipython3",
   "version": "3.12.2"
  }
 },
 "nbformat": 4,
 "nbformat_minor": 5
}
