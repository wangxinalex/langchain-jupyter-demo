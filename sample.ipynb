{
 "cells": [
  {
   "cell_type": "markdown",
   "id": "8a77807f92f26ee",
   "metadata": {},
   "source": [
    "# Azure OpenAI Python SDK Sample\n"
   ]
  },
  {
   "cell_type": "code",
   "id": "fbc121e30a2defb3",
   "metadata": {
    "ExecuteTime": {
     "end_time": "2024-07-19T10:37:18.064056Z",
     "start_time": "2024-07-19T10:37:18.003710Z"
    }
   },
   "source": [
    "import os\n",
    "from openai import AzureOpenAI\n",
    "from dotenv import load_dotenv, find_dotenv\n",
    "\n",
    "_ = load_dotenv(find_dotenv())\n",
    "\n",
    "client = AzureOpenAI(\n",
    "    api_key=os.getenv(\"AZURE_OPENAI_KEY\"),\n",
    "    api_version=os.getenv(\"OPENAI_API_VERSION\"),\n",
    "    azure_endpoint=os.getenv(\"AZURE_OPENAI_ENDPOINT\"),\n",
    ")"
   ],
   "outputs": [],
   "execution_count": 20
  },
  {
   "cell_type": "code",
   "id": "c0494539777c14a2",
   "metadata": {
    "ExecuteTime": {
     "end_time": "2024-07-19T10:37:18.068175Z",
     "start_time": "2024-07-19T10:37:18.065021Z"
    }
   },
   "source": [
    "\n",
    "def get_completion(prompt, model=\"gpt-35-turbo-deployment\"):\n",
    "    messages = [{\"role\": \"user\", \"content\": prompt}]\n",
    "    response = client.chat.completions.create(\n",
    "        model=model,\n",
    "        messages=messages,\n",
    "    )\n",
    "    return response.choices[0].message.content"
   ],
   "outputs": [],
   "execution_count": 21
  },
  {
   "cell_type": "code",
   "id": "244dfe739b36b3b0",
   "metadata": {
    "ExecuteTime": {
     "end_time": "2024-07-19T10:37:19.617150Z",
     "start_time": "2024-07-19T10:37:18.068768Z"
    }
   },
   "source": [
    "get_completion(\"What is the capital of Suriname?\")"
   ],
   "outputs": [
    {
     "data": {
      "text/plain": [
       "'The capital of Suriname is Paramaribo.'"
      ]
     },
     "execution_count": 22,
     "metadata": {},
     "output_type": "execute_result"
    }
   ],
   "execution_count": 22
  },
  {
   "cell_type": "code",
   "id": "d1f582e8ffc96f24",
   "metadata": {
    "ExecuteTime": {
     "end_time": "2024-07-19T10:37:19.621914Z",
     "start_time": "2024-07-19T10:37:19.619302Z"
    }
   },
   "source": [
    "customer_email = \"\"\"Arrr, I be fuming that me blender lid flew off and splattered me kitchen walls with smoothie! \\\n",
    "And to make matter worse, the warranty don't cover the cost of cleaning up me kitchen. \\\n",
    "I need ye help right now, matey!\n",
    "\"\"\""
   ],
   "outputs": [],
   "execution_count": 23
  },
  {
   "cell_type": "code",
   "id": "46ee7178dc070533",
   "metadata": {
    "ExecuteTime": {
     "end_time": "2024-07-19T10:37:19.625050Z",
     "start_time": "2024-07-19T10:37:19.623100Z"
    }
   },
   "source": [
    "style = \"\"\"American English in a calm and respectful tone\n",
    "\"\"\""
   ],
   "outputs": [],
   "execution_count": 24
  },
  {
   "cell_type": "code",
   "id": "bd6f9b3ccc2b9ee0",
   "metadata": {
    "ExecuteTime": {
     "end_time": "2024-07-19T10:37:19.628073Z",
     "start_time": "2024-07-19T10:37:19.625848Z"
    }
   },
   "source": [
    "prompt = f\"\"\"\n",
    "Translate the text that is delimited by triple backticks into a style that is {style}.\\\n",
    "text: ```{customer_email}```\n",
    "\"\"\"\n",
    "print(prompt)"
   ],
   "outputs": [
    {
     "name": "stdout",
     "output_type": "stream",
     "text": [
      "\n",
      "Translate the text that is delimited by triple backticks into a style that is American English in a calm and respectful tone\n",
      ".text: ```Arrr, I be fuming that me blender lid flew off and splattered me kitchen walls with smoothie! And to make matter worse, the warranty don't cover the cost of cleaning up me kitchen. I need ye help right now, matey!\n",
      "```\n",
      "\n"
     ]
    }
   ],
   "execution_count": 25
  },
  {
   "cell_type": "code",
   "id": "77d25fafbac1b8d6",
   "metadata": {
    "ExecuteTime": {
     "end_time": "2024-07-19T10:37:20.658075Z",
     "start_time": "2024-07-19T10:37:19.628858Z"
    }
   },
   "source": [
    "get_completion(prompt)"
   ],
   "outputs": [
    {
     "data": {
      "text/plain": [
       "\"I am feeling quite frustrated that the lid of my blender unexpectedly came off and caused a mess of smoothie all over my kitchen walls. Unfortunately, the warranty doesn't cover the cost of cleaning up the mess. If you could offer any assistance or advice, I would greatly appreciate it. Thank you kindly.\""
      ]
     },
     "execution_count": 26,
     "metadata": {},
     "output_type": "execute_result"
    }
   ],
   "execution_count": 26
  }
 ],
 "metadata": {
  "kernelspec": {
   "display_name": "Python 3 (ipykernel)",
   "language": "python",
   "name": "python3"
  },
  "language_info": {
   "codemirror_mode": {
    "name": "ipython",
    "version": 3
   },
   "file_extension": ".py",
   "mimetype": "text/x-python",
   "name": "python",
   "nbconvert_exporter": "python",
   "pygments_lexer": "ipython3",
   "version": "3.12.2"
  }
 },
 "nbformat": 4,
 "nbformat_minor": 5
}
